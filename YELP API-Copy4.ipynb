{
 "cells": [
  {
   "cell_type": "code",
   "execution_count": 81,
   "id": "6a63ac0b",
   "metadata": {},
   "outputs": [
    {
     "data": {
      "text/plain": [
       "(True, dict_keys(['client-id', 'api-key']))"
      ]
     },
     "execution_count": 81,
     "metadata": {},
     "output_type": "execute_result"
    }
   ],
   "source": [
    "import os\n",
    "import json\n",
    "\n",
    "# Define the user profile directory\n",
    "user_profile = os.environ['userprofile']\n",
    "\n",
    "# Define the path to the .secret directory\n",
    "secret_directory = os.path.join(user_profile, '.secret')\n",
    "\n",
    "# Create the .secret directory if it doesn't exist\n",
    "if not os.path.exists(secret_directory):\n",
    "    os.makedirs(secret_directory)\n",
    "\n",
    "# Define the path to the yelp_api.json file\n",
    "file_path = os.path.join(secret_directory, 'yelp_api.json')\n",
    "\n",
    "# Check if the file exists\n",
    "file_exists = os.path.exists(file_path)\n",
    "\n",
    "# Load API keys from the file if it exists\n",
    "if file_exists:\n",
    "    with open(file_path) as f:\n",
    "        try:\n",
    "            login = json.load(f)\n",
    "            keys_available = login.keys()\n",
    "        except json.JSONDecodeError as e:\n",
    "            print(f\"Error decoding JSON: {e}\")\n",
    "            keys_available = None\n",
    "else:\n",
    "    keys_available = None\n",
    "\n",
    "file_exists, keys_available\n"
   ]
  },
  {
   "cell_type": "code",
   "execution_count": 82,
   "id": "ad99dc9f",
   "metadata": {},
   "outputs": [
    {
     "name": "stdout",
     "output_type": "stream",
     "text": [
      "Requirement already satisfied: yelpapi in c:\\newfolder\\envs\\dojo-env\\lib\\site-packages (2.5.1)\n",
      "Requirement already satisfied: requests in c:\\newfolder\\envs\\dojo-env\\lib\\site-packages (from yelpapi) (2.29.0)\n",
      "Requirement already satisfied: charset-normalizer<4,>=2 in c:\\newfolder\\envs\\dojo-env\\lib\\site-packages (from requests->yelpapi) (2.0.4)\n",
      "Requirement already satisfied: idna<4,>=2.5 in c:\\newfolder\\envs\\dojo-env\\lib\\site-packages (from requests->yelpapi) (3.4)\n",
      "Requirement already satisfied: urllib3<1.27,>=1.21.1 in c:\\newfolder\\envs\\dojo-env\\lib\\site-packages (from requests->yelpapi) (1.26.15)\n",
      "Requirement already satisfied: certifi>=2017.4.17 in c:\\newfolder\\envs\\dojo-env\\lib\\site-packages (from requests->yelpapi) (2023.7.22)\n",
      "Note: you may need to restart the kernel to use updated packages.\n"
     ]
    }
   ],
   "source": [
    "pip install yelpapi\n"
   ]
  },
  {
   "cell_type": "code",
   "execution_count": 83,
   "id": "289a9a95",
   "metadata": {},
   "outputs": [
    {
     "data": {
      "text/plain": [
       "<yelpapi.yelpapi.YelpAPI at 0x26417ed7760>"
      ]
     },
     "execution_count": 83,
     "metadata": {},
     "output_type": "execute_result"
    }
   ],
   "source": [
    "from yelpapi import YelpAPI\n",
    "yelp_api = YelpAPI(login['api-key'], timeout_s=5.0)\n",
    "yelp_api\n",
    "\n"
   ]
  },
  {
   "cell_type": "code",
   "execution_count": 84,
   "id": "df4eac82",
   "metadata": {},
   "outputs": [
    {
     "name": "stdout",
     "output_type": "stream",
     "text": [
      "Requirement already satisfied: certifi in c:\\newfolder\\lib\\site-packages (2023.7.22)\n"
     ]
    }
   ],
   "source": [
    "!pip install --upgrade certifi\n",
    "\n"
   ]
  },
  {
   "cell_type": "code",
   "execution_count": 85,
   "id": "d68e1979",
   "metadata": {
    "scrolled": true
   },
   "outputs": [],
   "source": [
    "from yelpapi import YelpAPI\n",
    "\n",
    "# Create YelpAPI instance\n",
    "yelp_api = YelpAPI(login['api-key'], timeout_s=5.0)\n"
   ]
  },
  {
   "cell_type": "code",
   "execution_count": 86,
   "id": "19ea6ca9",
   "metadata": {},
   "outputs": [],
   "source": [
    "import urllib3\n",
    "\n",
    "# Disable SSL verification (not recommended)\n",
    "urllib3.disable_warnings(urllib3.exceptions.InsecureRequestWarning)\n"
   ]
  },
  {
   "cell_type": "code",
   "execution_count": 87,
   "id": "10d24a50",
   "metadata": {},
   "outputs": [],
   "source": [
    "import json\n"
   ]
  },
  {
   "cell_type": "code",
   "execution_count": 88,
   "id": "f70cba0f",
   "metadata": {},
   "outputs": [
    {
     "name": "stdout",
     "output_type": "stream",
     "text": [
      "Help on method search_query in module yelpapi.yelpapi:\n",
      "\n",
      "search_query(**kwargs) method of yelpapi.yelpapi.YelpAPI instance\n",
      "    Query the Yelp Search API.\n",
      "    \n",
      "    documentation: https://www.yelp.com/developers/documentation/v3/business_search\n",
      "    \n",
      "    required parameters:\n",
      "        * one of either:\n",
      "            * location - text specifying a location to search for\n",
      "            * latitude and longitude\n",
      "\n"
     ]
    }
   ],
   "source": [
    "help(yelp_api.search_query)"
   ]
  },
  {
   "cell_type": "code",
   "execution_count": 89,
   "id": "cb460c72",
   "metadata": {},
   "outputs": [
    {
     "name": "stdout",
     "output_type": "stream",
     "text": [
      "<class 'dict'>\n",
      "dict_keys(['businesses', 'total', 'region'])\n"
     ]
    }
   ],
   "source": [
    "import requests\n",
    "\n",
    "# Specify the Yelp API endpoint and parameters\n",
    "url = 'https://api.yelp.com/v3/businesses/search'\n",
    "params = {\n",
    "    'location': 'NY, NY',\n",
    "    'term': 'Pizza',\n",
    "}\n",
    "\n",
    "# Set your Yelp API key in the headers\n",
    "headers = {\n",
    "    'Authorization': f'Bearer {login[\"api-key\"]}',\n",
    "}\n",
    "\n",
    "# Disable SSL verification (use it cautiously)\n",
    "response = requests.get(url, params=params, headers=headers, verify=False)\n",
    "\n",
    "# Check the response\n",
    "if response.status_code == 200:\n",
    "    results = response.json()\n",
    "    print(type(results))\n",
    "    print(results.keys())\n",
    "else:\n",
    "    print(f\"Request failed with status code {response.status_code}\")\n",
    "    print(response.text)\n",
    "\n"
   ]
  },
  {
   "cell_type": "code",
   "execution_count": 90,
   "id": "ef6ff308",
   "metadata": {},
   "outputs": [
    {
     "name": "stdout",
     "output_type": "stream",
     "text": [
      "<class 'dict'>\n",
      "dict_keys(['businesses', 'total', 'region'])\n"
     ]
    }
   ],
   "source": [
    "import requests\n",
    "\n",
    "def make_yelp_api_request(endpoint, params, headers, verify_ssl=True):\n",
    "    \"\"\"\n",
    "    Make a request to the Yelp API.\n",
    "\n",
    "    Args:\n",
    "    - endpoint (str): The Yelp API endpoint URL.\n",
    "    - params (dict): The parameters to include in the request.\n",
    "    - headers (dict): The headers to include in the request.\n",
    "    - verify_ssl (bool): Whether to verify SSL certificates (default is True).\n",
    "\n",
    "    Returns:\n",
    "    - dict: The JSON response from the API.\n",
    "\n",
    "    Raises:\n",
    "    - requests.exceptions.RequestException: If the request encounters an error.\n",
    "    \"\"\"\n",
    "    try:\n",
    "        response = requests.get(endpoint, params=params, headers=headers, verify=verify_ssl)\n",
    "\n",
    "        # Check the response\n",
    "        response.raise_for_status()\n",
    "\n",
    "        # Return the JSON response\n",
    "        return response.json()\n",
    "\n",
    "    except requests.exceptions.RequestException as e:\n",
    "        print(f\"Request failed with error: {e}\")\n",
    "        return None\n",
    "\n",
    "# Example usage:\n",
    "yelp_endpoint = 'https://api.yelp.com/v3/businesses/search'\n",
    "yelp_params = {'location': 'NY, NY', 'term': 'Pizza'}\n",
    "yelp_headers = {'Authorization': f'Bearer {login[\"api-key\"]}'}\n",
    "\n",
    "# Make the Yelp API request without SSL verification\n",
    "results = make_yelp_api_request(yelp_endpoint, yelp_params, yelp_headers, verify_ssl=False)\n",
    "if results:\n",
    "    print(type(results))\n",
    "    print(results.keys())\n"
   ]
  },
  {
   "cell_type": "code",
   "execution_count": 91,
   "id": "8d7b0799",
   "metadata": {},
   "outputs": [],
   "source": [
    "response = requests.get(url, verify=False)\n"
   ]
  },
  {
   "cell_type": "code",
   "execution_count": 92,
   "id": "9bf24371",
   "metadata": {},
   "outputs": [
    {
     "name": "stdout",
     "output_type": "stream",
     "text": [
      "dict_keys(['client-id', 'api-key'])\n"
     ]
    }
   ],
   "source": [
    "import json\n",
    "\n",
    "with open('yelp_api.json') as f:\n",
    "    login = json.load(f)\n",
    "\n",
    "print(login.keys())"
   ]
  },
  {
   "cell_type": "code",
   "execution_count": 93,
   "id": "250d7afa",
   "metadata": {},
   "outputs": [
    {
     "name": "stdout",
     "output_type": "stream",
     "text": [
      "Requirement already satisfied: pandas in c:\\newfolder\\lib\\site-packages (2.1.1)\n",
      "Requirement already satisfied: requests in c:\\newfolder\\lib\\site-packages (2.31.0)\n",
      "Requirement already satisfied: numpy>=1.23.2 in c:\\newfolder\\lib\\site-packages (from pandas) (1.24.3)\n",
      "Requirement already satisfied: python-dateutil>=2.8.2 in c:\\newfolder\\lib\\site-packages (from pandas) (2.8.2)\n",
      "Requirement already satisfied: pytz>=2020.1 in c:\\newfolder\\lib\\site-packages (from pandas) (2023.3.post1)\n",
      "Requirement already satisfied: tzdata>=2022.1 in c:\\newfolder\\lib\\site-packages (from pandas) (2023.3)\n",
      "Requirement already satisfied: charset-normalizer<4,>=2 in c:\\newfolder\\lib\\site-packages (from requests) (2.0.4)\n",
      "Requirement already satisfied: idna<4,>=2.5 in c:\\newfolder\\lib\\site-packages (from requests) (3.4)\n",
      "Requirement already satisfied: urllib3<3,>=1.21.1 in c:\\newfolder\\lib\\site-packages (from requests) (1.26.16)\n",
      "Requirement already satisfied: certifi>=2017.4.17 in c:\\newfolder\\lib\\site-packages (from requests) (2023.7.22)\n",
      "Requirement already satisfied: six>=1.5 in c:\\newfolder\\lib\\site-packages (from python-dateutil>=2.8.2->pandas) (1.16.0)\n"
     ]
    }
   ],
   "source": [
    "!pip install pandas requests"
   ]
  },
  {
   "cell_type": "code",
   "execution_count": 94,
   "id": "0b060acb",
   "metadata": {},
   "outputs": [],
   "source": [
    "import json\n",
    "import requests\n",
    "import pandas as pd"
   ]
  },
  {
   "cell_type": "code",
   "execution_count": 107,
   "id": "954ac353",
   "metadata": {},
   "outputs": [
    {
     "name": "stdout",
     "output_type": "stream",
     "text": [
      "                       id                                 alias  \\\n",
      "0  Yf741qv9lkVQzG636pVIGg   matsumoto-samurais-kitchen-oakhurst   \n",
      "1  wsoceNwNqC1vYmdHsYsEPA  gojira-ramen-and-sushi-mammoth-lakes   \n",
      "2  bePbHf4uk72Qn1Kupbdr5g                   kyoto-kafe-oakhurst   \n",
      "3  TGVUR13qiNSsCGsUN8zEmA    noodle-bar-asian-bistro-coarsegold   \n",
      "4  M6qUGNq8_25RUs8Q9KcLaQ        duceys-on-the-lake-bass-lake-2   \n",
      "\n",
      "                          name  \\\n",
      "0  Matsumoto Samurai's Kitchen   \n",
      "1         GOJIRA Ramen & Sushi   \n",
      "2                   Kyoto Kafe   \n",
      "3      Noodle Bar Asian Bistro   \n",
      "4          Ducey's on the Lake   \n",
      "\n",
      "                                           image_url  is_closed  \\\n",
      "0  https://s3-media2.fl.yelpcdn.com/bphoto/sY1Inr...      False   \n",
      "1  https://s3-media3.fl.yelpcdn.com/bphoto/Zy_uaj...      False   \n",
      "2  https://s3-media2.fl.yelpcdn.com/bphoto/9gEahJ...      False   \n",
      "3  https://s3-media4.fl.yelpcdn.com/bphoto/D645jw...      False   \n",
      "4  https://s3-media2.fl.yelpcdn.com/bphoto/ht5jtZ...      False   \n",
      "\n",
      "                                                 url  review_count  \\\n",
      "0  https://www.yelp.com/biz/matsumoto-samurais-ki...            51   \n",
      "1  https://www.yelp.com/biz/gojira-ramen-and-sush...          1150   \n",
      "2  https://www.yelp.com/biz/kyoto-kafe-oakhurst?a...           161   \n",
      "3  https://www.yelp.com/biz/noodle-bar-asian-bist...            68   \n",
      "4  https://www.yelp.com/biz/duceys-on-the-lake-ba...           618   \n",
      "\n",
      "                                          categories  rating  \\\n",
      "0  [{'alias': 'foodtrucks', 'title': 'Food Trucks...     5.0   \n",
      "1  [{'alias': 'sushi', 'title': 'Sushi Bars'}, {'...     4.0   \n",
      "2  [{'alias': 'sushi', 'title': 'Sushi Bars'}, {'...     3.0   \n",
      "3  [{'alias': 'asianfusion', 'title': 'Asian Fusi...     3.0   \n",
      "4  [{'alias': 'seafood', 'title': 'Seafood'}, {'a...     4.0   \n",
      "\n",
      "                                         coordinates transactions  \\\n",
      "0  {'latitude': 37.33044995927256, 'longitude': -...           []   \n",
      "1  {'latitude': 37.63908784824032, 'longitude': -...           []   \n",
      "2    {'latitude': 37.33374, 'longitude': -119.64764}           []   \n",
      "3  {'latitude': 37.2119875, 'longitude': -119.699...           []   \n",
      "4  {'latitude': 37.3189103, 'longitude': -119.557...           []   \n",
      "\n",
      "                                            location         phone  \\\n",
      "0  {'address1': '49777 Road 427', 'address2': '',...  +15592739035   \n",
      "1  {'address1': '452 Old Mammoth Rd', 'address2':...  +17609650080   \n",
      "2  {'address1': '40423 Hwy 41', 'address2': '', '...  +15596922400   \n",
      "3  {'address1': '711 Lucky Ln', 'address2': '', '...  +18667946946   \n",
      "4  {'address1': '39255 Marina Dr', 'address2': ''...  +15596423131   \n",
      "\n",
      "    display_phone      distance price  \n",
      "0  (559) 273-9035  30389.929088   NaN  \n",
      "1  (760) 965-0080  51054.133371    $$  \n",
      "2  (559) 692-2400  31115.006176    $$  \n",
      "3  (866) 794-6946  35358.163409    $$  \n",
      "4  (559) 642-3131  22956.019078    $$  \n"
     ]
    }
   ],
   "source": [
    "import os\n",
    "import json\n",
    "import requests\n",
    "import pandas as pd\n",
    "\n",
    "# Define the user profile directory\n",
    "user_profile = os.environ['userprofile']\n",
    "\n",
    "# Define the path to the .secret directory\n",
    "secret_directory = os.path.join(user_profile, '.secret')\n",
    "\n",
    "# Create the .secret directory if it doesn't exist\n",
    "if not os.path.exists(secret_directory):\n",
    "    os.makedirs(secret_directory)\n",
    "\n",
    "# Define the path to the yelp_api.json file\n",
    "file_path = os.path.join(secret_directory, 'yelp_api.json')\n",
    "\n",
    "# Load API keys from the file if it exists\n",
    "if os.path.exists(file_path):\n",
    "    with open(file_path) as f:\n",
    "        try:\n",
    "            login = json.load(f)\n",
    "        except json.JSONDecodeError as e:\n",
    "            print(f\"Error decoding JSON: {e}\")\n",
    "            login = {}\n",
    "else:\n",
    "    login = {}\n",
    "\n",
    "def make_yelp_api_request(location, term, offset=0):\n",
    "    # Set up Yelp API endpoint, headers, and parameters\n",
    "    endpoint = 'https://api.yelp.com/v3/businesses/search'\n",
    "    headers = {'Authorization': f'Bearer {login.get(\"api-key\", \"\")}'}\n",
    "    params = {'location': location, 'term': term, 'limit': 50, 'offset': offset}  # You can add more parameters\n",
    "\n",
    "    # Make the Yelp API request\n",
    "    response = requests.get(endpoint, params=params, headers=headers, verify=False)\n",
    "\n",
    "    # Check if the request was successful\n",
    "    if response.status_code == 200:\n",
    "        return response.json().get('businesses', [])\n",
    "    else:\n",
    "        print(f\"Error: {response.status_code}, {response.text}\")\n",
    "        return None\n",
    "\n",
    "# Specify your favorite city and cuisine type\n",
    "city = 'California'\n",
    "cuisine = 'Sushi'\n",
    "\n",
    "# Make multiple API requests\n",
    "results_list = []\n",
    "for offset in range(0, 1000, 50):  # Adjust the range based on your needs\n",
    "    results = make_yelp_api_request(location=city, term=cuisine, offset=offset)\n",
    "    if results:\n",
    "        results_list.extend(results)\n",
    "\n",
    "# Compile results into DataFrame\n",
    "df = pd.DataFrame(results_list)\n",
    "\n",
    "# Display the head of the DataFrame\n",
    "print(df.head())\n",
    "\n",
    "# Specify the folder to save the CSV file\n",
    "save_folder = r'C:\\Users\\X487669\\OneDrive - Old Mutual\\Documents\\GitHub'\n",
    "\n",
    "# Save DataFrame to a CSV file in the specified folder\n",
    "csv_file_path = os.path.join(save_folder, 'yelp_results.csv')\n",
    "df.to_csv(csv_file_path, index=False)\n"
   ]
  },
  {
   "cell_type": "code",
   "execution_count": null,
   "id": "7487a5d5",
   "metadata": {},
   "outputs": [],
   "source": []
  }
 ],
 "metadata": {
  "kernelspec": {
   "display_name": "Python (dojo-env)",
   "language": "python",
   "name": "dojo-env"
  },
  "language_info": {
   "codemirror_mode": {
    "name": "ipython",
    "version": 3
   },
   "file_extension": ".py",
   "mimetype": "text/x-python",
   "name": "python",
   "nbconvert_exporter": "python",
   "pygments_lexer": "ipython3",
   "version": "3.10.13"
  }
 },
 "nbformat": 4,
 "nbformat_minor": 5
}
