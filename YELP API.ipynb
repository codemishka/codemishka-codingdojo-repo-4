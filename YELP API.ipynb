{
 "cells": [
  {
   "cell_type": "code",
   "execution_count": 36,
   "id": "992324be",
   "metadata": {},
   "outputs": [
    {
     "data": {
      "text/plain": [
       "(True, dict_keys(['client-id', 'api-key']))"
      ]
     },
     "execution_count": 36,
     "metadata": {},
     "output_type": "execute_result"
    }
   ],
   "source": [
    "import os\n",
    "import json\n",
    "\n",
    "# Define the user profile directory\n",
    "user_profile = os.environ['userprofile']\n",
    "\n",
    "# Define the path to the .secret directory\n",
    "secret_directory = os.path.join(user_profile, '.secret')\n",
    "\n",
    "# Create the .secret directory if it doesn't exist\n",
    "if not os.path.exists(secret_directory):\n",
    "    os.makedirs(secret_directory)\n",
    "\n",
    "# Define the path to the yelp_api.json file\n",
    "file_path = os.path.join(secret_directory, 'yelp_api.json')\n",
    "\n",
    "# Check if the file exists\n",
    "file_exists = os.path.exists(file_path)\n",
    "\n",
    "# Load API keys from the file if it exists\n",
    "if file_exists:\n",
    "    with open(file_path) as f:\n",
    "        try:\n",
    "            login = json.load(f)\n",
    "            keys_available = login.keys()\n",
    "        except json.JSONDecodeError as e:\n",
    "            print(f\"Error decoding JSON: {e}\")\n",
    "            keys_available = None\n",
    "else:\n",
    "    keys_available = None\n",
    "\n",
    "file_exists, keys_available\n"
   ]
  },
  {
   "cell_type": "code",
   "execution_count": 37,
   "id": "1719c567",
   "metadata": {},
   "outputs": [
    {
     "name": "stdout",
     "output_type": "stream",
     "text": [
      "Requirement already satisfied: yelpapi in c:\\newfolder\\envs\\dojo-env\\lib\\site-packages (2.5.1)\n",
      "Requirement already satisfied: requests in c:\\newfolder\\envs\\dojo-env\\lib\\site-packages (from yelpapi) (2.29.0)\n",
      "Requirement already satisfied: charset-normalizer<4,>=2 in c:\\newfolder\\envs\\dojo-env\\lib\\site-packages (from requests->yelpapi) (2.0.4)\n",
      "Requirement already satisfied: idna<4,>=2.5 in c:\\newfolder\\envs\\dojo-env\\lib\\site-packages (from requests->yelpapi) (3.4)\n",
      "Requirement already satisfied: urllib3<1.27,>=1.21.1 in c:\\newfolder\\envs\\dojo-env\\lib\\site-packages (from requests->yelpapi) (1.26.15)\n",
      "Requirement already satisfied: certifi>=2017.4.17 in c:\\newfolder\\envs\\dojo-env\\lib\\site-packages (from requests->yelpapi) (2023.7.22)\n",
      "Note: you may need to restart the kernel to use updated packages.\n"
     ]
    }
   ],
   "source": [
    "pip install yelpapi\n"
   ]
  },
  {
   "cell_type": "code",
   "execution_count": 38,
   "id": "27bd89c5",
   "metadata": {},
   "outputs": [
    {
     "data": {
      "text/plain": [
       "<yelpapi.yelpapi.YelpAPI at 0x264159581f0>"
      ]
     },
     "execution_count": 38,
     "metadata": {},
     "output_type": "execute_result"
    }
   ],
   "source": [
    "from yelpapi import YelpAPI\n",
    "yelp_api = YelpAPI(login['api-key'], timeout_s=5.0)\n",
    "yelp_api\n",
    "\n"
   ]
  },
  {
   "cell_type": "code",
   "execution_count": 39,
   "id": "0bed1b7d",
   "metadata": {},
   "outputs": [
    {
     "name": "stdout",
     "output_type": "stream",
     "text": [
      "Requirement already satisfied: certifi in c:\\newfolder\\lib\\site-packages (2023.7.22)\n"
     ]
    }
   ],
   "source": [
    "!pip install --upgrade certifi\n",
    "\n"
   ]
  },
  {
   "cell_type": "code",
   "execution_count": 40,
   "id": "ed6b284a",
   "metadata": {},
   "outputs": [],
   "source": [
    "import certifi\n",
    "import requests\n",
    "from yelpapi import YelpAPI\n",
    "\n",
    "# ... (your existing code)\n",
    "\n",
    "# Specify the path to the CA bundle file\n",
    "ca_bundle_path = certifi.where()\n",
    "\n",
    "# Set the CA bundle for the requests library\n",
    "requests.DEFAULT_CA_BUNDLE_PATH = ca_bundle_path\n",
    "\n",
    "# Initialize YelpAPI\n",
    "yelp_api = YelpAPI(login['api-key'], timeout_s=5.0)\n",
    "\n",
    "# ... (rest of your code)\n",
    "\n"
   ]
  },
  {
   "cell_type": "code",
   "execution_count": 41,
   "id": "3941391a",
   "metadata": {
    "scrolled": true
   },
   "outputs": [],
   "source": [
    "from yelpapi import YelpAPI\n",
    "\n",
    "# Create YelpAPI instance\n",
    "yelp_api = YelpAPI(login['api-key'], timeout_s=5.0)\n"
   ]
  },
  {
   "cell_type": "code",
   "execution_count": 42,
   "id": "351d0c74",
   "metadata": {},
   "outputs": [],
   "source": [
    "import urllib3\n",
    "\n",
    "# Disable SSL verification (not recommended)\n",
    "urllib3.disable_warnings(urllib3.exceptions.InsecureRequestWarning)\n"
   ]
  },
  {
   "cell_type": "code",
   "execution_count": 46,
   "id": "d319f97a",
   "metadata": {},
   "outputs": [
    {
     "name": "stdout",
     "output_type": "stream",
     "text": [
      "<class 'dict'>\n",
      "dict_keys(['businesses', 'total', 'region'])\n"
     ]
    }
   ],
   "source": [
    "import requests\n",
    "\n",
    "# Specify the Yelp API endpoint and parameters\n",
    "url = 'https://api.yelp.com/v3/businesses/search'\n",
    "params = {\n",
    "    'location': 'Baltimore, MD',\n",
    "    'term': 'Crab Cake',\n",
    "}\n",
    "\n",
    "# Set your Yelp API key in the headers\n",
    "headers = {\n",
    "    'Authorization': f'Bearer {login[\"api-key\"]}',\n",
    "}\n",
    "\n",
    "# Disable SSL verification (use it cautiously)\n",
    "response = requests.get(url, params=params, headers=headers, verify=False)\n",
    "\n",
    "# Check the response\n",
    "if response.status_code == 200:\n",
    "    results = response.json()\n",
    "    print(type(results))\n",
    "    print(results.keys())\n",
    "else:\n",
    "    print(f\"Request failed with status code {response.status_code}\")\n",
    "    print(response.text)\n"
   ]
  },
  {
   "cell_type": "code",
   "execution_count": 47,
   "id": "c2b522c6",
   "metadata": {},
   "outputs": [],
   "source": [
    "import json\n"
   ]
  },
  {
   "cell_type": "code",
   "execution_count": null,
   "id": "665a64f0",
   "metadata": {},
   "outputs": [],
   "source": []
  }
 ],
 "metadata": {
  "kernelspec": {
   "display_name": "Python (dojo-env)",
   "language": "python",
   "name": "dojo-env"
  },
  "language_info": {
   "codemirror_mode": {
    "name": "ipython",
    "version": 3
   },
   "file_extension": ".py",
   "mimetype": "text/x-python",
   "name": "python",
   "nbconvert_exporter": "python",
   "pygments_lexer": "ipython3",
   "version": "3.10.13"
  }
 },
 "nbformat": 4,
 "nbformat_minor": 5
}
